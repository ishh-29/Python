{
  "nbformat": 4,
  "nbformat_minor": 0,
  "metadata": {
    "colab": {
      "provenance": []
    },
    "kernelspec": {
      "name": "python3",
      "display_name": "Python 3"
    },
    "language_info": {
      "name": "python"
    }
  },
  "cells": [
    {
      "cell_type": "markdown",
      "source": [
        "**INTEROPERABILITY**\n",
        "\n",
        "Interoperability Refers To Exchange Of Data Between Different Libraries With Minimal Copy Or Conversion.\n"
      ],
      "metadata": {
        "id": "s6SL-Svw_JT3"
      }
    },
    {
      "cell_type": "code",
      "execution_count": 2,
      "metadata": {
        "id": "bTTxdYXo_Bkg"
      },
      "outputs": [],
      "source": [
        "import numpy as np\n",
        "import pandas as pd"
      ]
    },
    {
      "cell_type": "markdown",
      "source": [
        "1. **Convert A Pandas Dataframe To A Numpy Array And Print It**"
      ],
      "metadata": {
        "id": "bkdIU3rsBKWc"
      }
    },
    {
      "cell_type": "code",
      "source": [
        "d={\n",
        "    'A':[1,2,3,4,5],\n",
        "    'B':[10,20,30,40,50],\n",
        "    'C':[100,200,300,400,500]\n",
        "}\n",
        "df=pd.DataFrame(d)\n",
        "print(\"Original Pandas Data Frame:\\n\",df)\n",
        "print(\"Type:\",type(df))\n",
        "numarr=df.to_numpy()\n",
        "print(\"Numpy Array:\",numarr)\n",
        "print(\"Type:\",type(numarr))"
      ],
      "metadata": {
        "id": "2t6wqkO1BXbt"
      },
      "execution_count": null,
      "outputs": []
    },
    {
      "cell_type": "markdown",
      "source": [
        "2. **Convert A Pandas Series To A Numpy Array And Vice Versa.Print It**"
      ],
      "metadata": {
        "id": "XxsqLxsGDP7m"
      }
    },
    {
      "cell_type": "code",
      "source": [
        "s=pd.Series([10,20,30,40,50])\n",
        "print(\"Original Pandaas Series:\\n\",s)\n",
        "print(\"Type:\",type(s))\n",
        "arr=s.to_numpy()\n",
        "print(arr)\n",
        "print(\"Type:\",type(arr))\n",
        "print(\"Back To Series:\",pd.Series(arr))"
      ],
      "metadata": {
        "id": "vaYQm4l5DVQt"
      },
      "execution_count": null,
      "outputs": []
    }
  ]
}