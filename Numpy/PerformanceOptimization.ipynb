{
  "nbformat": 4,
  "nbformat_minor": 0,
  "metadata": {
    "colab": {
      "provenance": []
    },
    "kernelspec": {
      "name": "python3",
      "display_name": "Python 3"
    },
    "language_info": {
      "name": "python"
    }
  },
  "cells": [
    {
      "cell_type": "markdown",
      "source": [
        "**Performance Optimization**\n",
        "\n"
      ],
      "metadata": {
        "id": "imKMUe7mPhSt"
      }
    },
    {
      "cell_type": "code",
      "execution_count": 7,
      "metadata": {
        "id": "Iy8ev6UqPe7S"
      },
      "outputs": [],
      "source": [
        "import numpy as np"
      ]
    },
    {
      "cell_type": "markdown",
      "source": [
        "1. **Create A Large 1D Array And Write A Function To Calculate The Sum Of Its Elements Using A for Loop**"
      ],
      "metadata": {
        "id": "xqjgHtZWUFtX"
      }
    },
    {
      "cell_type": "code",
      "source": [
        "arr=np.random.rand(1_000_000)\n",
        "def sum(arr):\n",
        "  total=0.0\n",
        "  for i in arr:\n",
        "    total+=i\n",
        "  return total\n",
        "print(\"Sum Of All Elements:\",sum(arr))"
      ],
      "metadata": {
        "id": "tXq9ifFdUS0C"
      },
      "execution_count": null,
      "outputs": []
    },
    {
      "cell_type": "markdown",
      "source": [
        "2. **Generate Two Large Numpy Arrays And Perform Element-Wise Addition And Optimize It With Vectorized Operations**"
      ],
      "metadata": {
        "id": "_7miY2PGVFd4"
      }
    },
    {
      "cell_type": "code",
      "source": [
        "arr1=np.random.rand(1_000_000)\n",
        "arr2=np.random.rand(1_000_000)\n",
        "def add(arr1,arr2):\n",
        "  res=np.zeros_like(arr1)\n",
        "  for i in range(len(arr1)):\n",
        "    res[i]=arr1[i]+arr2[i]\n",
        "  return res\n",
        "print(\"Element-Wise Sum:\",add(arr1,arr2))"
      ],
      "metadata": {
        "id": "6iW3VTzaVeCz"
      },
      "execution_count": null,
      "outputs": []
    },
    {
      "cell_type": "markdown",
      "source": [
        "3. **Create A Large 2D Numpy Array And Calculate Row-Wise Mean Using A for Loop**"
      ],
      "metadata": {
        "id": "Ww32OEihWGmU"
      }
    },
    {
      "cell_type": "code",
      "source": [
        "arr=np.random.rand(10000,100)\n",
        "def rowmean(arr):\n",
        "  mean=np.zeros(arr.shape[0])\n",
        "  #Creates A Numpy Array Of Length Equal To Number Of Rows\n",
        "  #One Zero For Each Row In Another Array\n",
        "  for i in range(arr.shape[0]):\n",
        "    mean[i]=np.mean(arr[i,:])\n",
        "    #Selects The i-th Row Of 2D Array And Take All Coloumns\n",
        "    #Computes Mean Of That Row\n",
        "    return mean\n",
        "  print(\"Row-Wise Mean:\",rowmean(arr))\n",
        "  vec=np.mean(arr,axis=1)\n",
        "  print(\"Vectorized Operations:\",vec[:10])\n"
      ],
      "metadata": {
        "id": "2tJdWs1jWP_Y"
      },
      "execution_count": 14,
      "outputs": []
    },
    {
      "cell_type": "markdown",
      "source": [
        "4. **Transpose A Large 2D Numpy Array Using Nested for Loops.Optimize It Using Numpy's transpose Function**"
      ],
      "metadata": {
        "id": "wrFO6PU_7jqz"
      }
    },
    {
      "cell_type": "code",
      "source": [
        "arr=np.random.rand(1000,1000)\n",
        "def trans(arr):\n",
        "  r,c=arr.shape\n",
        "  tarr=np.zeros((c,r))\n",
        "  for i in range(r):\n",
        "    for j in range(c):\n",
        "      tarr[j,i]=arr[i,j]\n",
        "  return tarr\n",
        "print(\"Transpose Using Loop:\",trans(arr))\n",
        "print(\"Using transpose():\",np.transpose(arr))"
      ],
      "metadata": {
        "id": "EqZjBXct71wr"
      },
      "execution_count": null,
      "outputs": []
    }
  ]
}