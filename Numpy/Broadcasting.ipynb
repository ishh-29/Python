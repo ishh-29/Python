{
  "nbformat": 4,
  "nbformat_minor": 0,
  "metadata": {
    "colab": {
      "provenance": []
    },
    "kernelspec": {
      "name": "python3",
      "display_name": "Python 3"
    },
    "language_info": {
      "name": "python"
    }
  },
  "cells": [
    {
      "cell_type": "markdown",
      "source": [
        "**BROADCASTING**\n",
        "\n",
        "A Mechanism That Allow Numpy To Perform Arithmetic Operations On Arrays Of Different Shapes And Sizes Without Explictly Copying Data.\n",
        "\n",
        "Broadcasting Automatically Expands Smaller Arrays So They Can Match The Shape Of Larger Arrays During Operations."
      ],
      "metadata": {
        "id": "aexj46clZuOb"
      }
    },
    {
      "cell_type": "code",
      "execution_count": 3,
      "metadata": {
        "id": "MGc2W5azqT0d"
      },
      "outputs": [],
      "source": [
        "import numpy as np"
      ]
    },
    {
      "cell_type": "markdown",
      "source": [
        "1. **To Perform Element-Wise Addition Using Broadcasting**"
      ],
      "metadata": {
        "id": "2D8txAn6sqMo"
      }
    },
    {
      "cell_type": "code",
      "source": [
        "x=np.array([1,2,3])\n",
        "y=np.array([[10],[20],[30]])\n",
        "print(x+y)"
      ],
      "metadata": {
        "colab": {
          "base_uri": "https://localhost:8080/"
        },
        "id": "nwEoX9zys7S6",
        "outputId": "d3f898f0-39f1-425a-d98f-22890f2c904d"
      },
      "execution_count": null,
      "outputs": [
        {
          "output_type": "stream",
          "name": "stdout",
          "text": [
            "[[11 12 13]\n",
            " [21 22 23]\n",
            " [31 32 33]]\n"
          ]
        }
      ]
    },
    {
      "cell_type": "markdown",
      "source": [
        "2. **To Create 2D Array x Of Shape(3,4) And A 1D Array Of Shape(4,) Using Broadcasting**"
      ],
      "metadata": {
        "id": "MUifkTmotOKH"
      }
    },
    {
      "cell_type": "code",
      "source": [
        "x=np.array([[5,6,7,8],[1,2,3,4],[9,10,11,12]])\n",
        "y=np.array([1,2,3,4])\n",
        "print(x-y)"
      ],
      "metadata": {
        "colab": {
          "base_uri": "https://localhost:8080/"
        },
        "id": "raRJZQmntlTF",
        "outputId": "345aa74a-90c8-4ddc-afeb-1e7b4a8da44f"
      },
      "execution_count": null,
      "outputs": [
        {
          "output_type": "stream",
          "name": "stdout",
          "text": [
            "[[4 4 4 4]\n",
            " [0 0 0 0]\n",
            " [8 8 8 8]]\n"
          ]
        }
      ]
    },
    {
      "cell_type": "markdown",
      "source": [
        "3. **To Multiply A 3D Array Of Shape(2,3,4) by A 1D Array Of Shape(4,) Using Broadcasting**"
      ],
      "metadata": {
        "id": "qoco2mKtt_Sf"
      }
    },
    {
      "cell_type": "code",
      "source": [
        "a = np.array([[[1, 2, 3, 4],\n",
        "               [5, 6, 7, 8],\n",
        "               [9, 10, 11, 12]],\n",
        "\n",
        "              [[13, 14, 15, 16],\n",
        "               [17, 18, 19, 20],\n",
        "               [21, 22, 23, 24]]])\n",
        "b=np.array([2,3,4,5])\n",
        "print(a*b)"
      ],
      "metadata": {
        "colab": {
          "base_uri": "https://localhost:8080/"
        },
        "id": "gyxWDyFiuUe4",
        "outputId": "bdf66de4-1eda-420b-c012-34acc5923c2d"
      },
      "execution_count": null,
      "outputs": [
        {
          "output_type": "stream",
          "name": "stdout",
          "text": [
            "[[[  2   6  12  20]\n",
            "  [ 10  18  28  40]\n",
            "  [ 18  30  44  60]]\n",
            "\n",
            " [[ 26  42  60  80]\n",
            "  [ 34  54  76 100]\n",
            "  [ 42  66  92 120]]]\n"
          ]
        }
      ]
    },
    {
      "cell_type": "markdown",
      "source": [
        "4. **To Add A Scalar Value To A 2D Array Of Shape(5,5)**"
      ],
      "metadata": {
        "id": "CNNVDJlPuoXt"
      }
    },
    {
      "cell_type": "code",
      "source": [
        "arr=np.array([[1,2,3,4,5],\n",
        "              [6,7,8,9,10],\n",
        "              [11,12,13,14,15],\n",
        "              [16,17,18,19,20],\n",
        "              [21,22,23,24,25]])\n",
        "scal=10\n",
        "print(arr+scal)"
      ],
      "metadata": {
        "id": "aDzjMf26u4l3"
      },
      "execution_count": null,
      "outputs": []
    },
    {
      "cell_type": "markdown",
      "source": [
        "5. **To Reshape Two Arrays To Make Them Broadcast Compatible And Perform Element-Wise Multiplication.**"
      ],
      "metadata": {
        "id": "RRWERJVHa5Av"
      }
    },
    {
      "cell_type": "code",
      "source": [
        "x=np.array([1,2,3])\n",
        "y=np.array([4,5,6,7,8,9])\n",
        "xshape=x.reshape(3,1)\n",
        "yshape=y.reshape(1,6)\n",
        "print(xshape+yshape)"
      ],
      "metadata": {
        "colab": {
          "base_uri": "https://localhost:8080/"
        },
        "id": "U2zXjDHtbR0_",
        "outputId": "cd02622b-aaaf-46d0-d3ae-7a75484dfe45"
      },
      "execution_count": null,
      "outputs": [
        {
          "output_type": "stream",
          "name": "stdout",
          "text": [
            "[[ 5  6  7  8  9 10]\n",
            " [ 6  7  8  9 10 11]\n",
            " [ 7  8  9 10 11 12]]\n"
          ]
        }
      ]
    },
    {
      "cell_type": "markdown",
      "source": [
        "6. **To Divide Each Coloumn Of A 2D Array x Of Shape(4,3) By A 1D Array y Of Shape(4,)**"
      ],
      "metadata": {
        "id": "dueu1VOIb0qg"
      }
    },
    {
      "cell_type": "code",
      "source": [
        "x=np.array([[8,16,24],\n",
        "            [2,4,6],\n",
        "            [12,24,36],\n",
        "            [4,8,12]])\n",
        "y=np.array([2,2,3,4])\n",
        "yshape=y.reshape(4,1)\n",
        "print(x/yshape)"
      ],
      "metadata": {
        "id": "BVC3fY9ocCQ0"
      },
      "execution_count": null,
      "outputs": []
    },
    {
      "cell_type": "markdown",
      "source": [
        "7. **Given A 2D Array Of Shape(3,5) And A 1D Array Of Shape(3,).Program To Transposes The 2D Array And Add The 1D Array To Each Row Of The Transposed Array**"
      ],
      "metadata": {
        "id": "RlnehgZqceZW"
      }
    },
    {
      "cell_type": "code",
      "source": [
        "arr=np.array([[1,2,3,4,5],\n",
        "              [6,7,8,9,10],\n",
        "              [1,12,13,14,15]])\n",
        "arr1=np.array([1,2,3])\n",
        "transarr=np.transpose(arr)\n",
        "print(transarr+arr1)"
      ],
      "metadata": {
        "colab": {
          "base_uri": "https://localhost:8080/"
        },
        "id": "9fivJqDDcyKu",
        "outputId": "b07dad10-1746-494a-d13d-58aa6a90b64e"
      },
      "execution_count": 5,
      "outputs": [
        {
          "output_type": "stream",
          "name": "stdout",
          "text": [
            "[[ 2  8  4]\n",
            " [ 3  9 15]\n",
            " [ 4 10 16]\n",
            " [ 5 11 17]\n",
            " [ 6 12 18]]\n"
          ]
        }
      ]
    },
    {
      "cell_type": "markdown",
      "source": [
        "8. **To Substract A 1D Array y Of Shape (3,) From Each 2D Slice Of A 3D Array x Of Shape (2,3,4)**"
      ],
      "metadata": {
        "id": "gZf-tyC5SzWH"
      }
    },
    {
      "cell_type": "code",
      "source": [
        "arr=np.array([[[1,2,3,4],\n",
        "                [5,6,7,8],\n",
        "                [9,10,11,12]],\n",
        "               [[13,14,15,16],\n",
        "                [17,18,19,20],\n",
        "                [21,22,23,24]]])\n",
        "arr1=np.array([1,2,3])\n",
        "print(arr-arr1[:,np.newaxis])"
      ],
      "metadata": {
        "colab": {
          "base_uri": "https://localhost:8080/"
        },
        "id": "-9ay8-2zTMxi",
        "outputId": "831126a6-30d8-4a09-a778-811b64dfafff"
      },
      "execution_count": 7,
      "outputs": [
        {
          "output_type": "stream",
          "name": "stdout",
          "text": [
            "[[[ 0  1  2  3]\n",
            "  [ 3  4  5  6]\n",
            "  [ 6  7  8  9]]\n",
            "\n",
            " [[12 13 14 15]\n",
            "  [15 16 17 18]\n",
            "  [18 19 20 21]]]\n"
          ]
        }
      ]
    },
    {
      "cell_type": "markdown",
      "source": [
        "9. **Create Two 1D Array x Of Shape (5,) And y Of Shape (5,). Reshape Them To (5,1) And (1,5) Respectively And Perform Element-Wise Addition**"
      ],
      "metadata": {
        "id": "VZSDcH-HUZ6u"
      }
    },
    {
      "cell_type": "code",
      "source": [
        "x=np.array([1,2,3,4,5])\n",
        "y=np.array([10,20,30,40,50])\n",
        "rex=x.reshape((5,1))\n",
        "rey=y.reshape((1,5))\n",
        "print(rex+rey)"
      ],
      "metadata": {
        "colab": {
          "base_uri": "https://localhost:8080/"
        },
        "id": "CVZiGfwCVSAH",
        "outputId": "7e7eaad2-e0e1-4bf3-ec11-01d714054974"
      },
      "execution_count": 8,
      "outputs": [
        {
          "output_type": "stream",
          "name": "stdout",
          "text": [
            "[[11 21 31 41 51]\n",
            " [12 22 32 42 52]\n",
            " [13 23 33 43 53]\n",
            " [14 24 34 44 54]\n",
            " [15 25 35 45 55]]\n"
          ]
        }
      ]
    },
    {
      "cell_type": "markdown",
      "source": [
        "10. **Create A 2D Array x Of Shape (4,4) And A Scalar y.Perform Element-Wise Multiplication Of a And b**"
      ],
      "metadata": {
        "id": "PVIqd_8-V8Yy"
      }
    },
    {
      "cell_type": "code",
      "source": [
        "x=np.array([[1,2,3,4],\n",
        "            [5,6,7,8],\n",
        "            [9,10,11,12],\n",
        "            [13,14,15,16]])\n",
        "y=3\n",
        "print(x*y)"
      ],
      "metadata": {
        "colab": {
          "base_uri": "https://localhost:8080/"
        },
        "id": "fDTSUdJZW57t",
        "outputId": "b04d024a-fa98-456f-98f9-7c6e53ae509e"
      },
      "execution_count": 9,
      "outputs": [
        {
          "output_type": "stream",
          "name": "stdout",
          "text": [
            "[[ 3  6  9 12]\n",
            " [15 18 21 24]\n",
            " [27 30 33 36]\n",
            " [39 42 45 48]]\n"
          ]
        }
      ]
    }
  ]
}