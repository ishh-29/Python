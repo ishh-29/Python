{
  "nbformat": 4,
  "nbformat_minor": 0,
  "metadata": {
    "colab": {
      "provenance": []
    },
    "kernelspec": {
      "name": "python3",
      "display_name": "Python 3"
    },
    "language_info": {
      "name": "python"
    }
  },
  "cells": [
    {
      "cell_type": "markdown",
      "source": [
        "**MEMORY LAYOUT**\n",
        "\n",
        "Memory Layout Refers To How Array Elements Are Stored In Memory-i.e.,How\n",
        "Multidimensional Arrays Are Represented As A One-Dimensional Block Of Memory\n"
      ],
      "metadata": {
        "id": "p8hZdpFPIRgm"
      }
    },
    {
      "cell_type": "code",
      "source": [
        "import numpy as np"
      ],
      "metadata": {
        "id": "S-hfo1Fxb36r"
      },
      "execution_count": 2,
      "outputs": []
    },
    {
      "cell_type": "markdown",
      "source": [
        "1. **Create A 3D Array Of Shape (2,3,4) And Print Its Strides.**\n",
        "\n",
        "Strides-> Tells How Many Bytes You Need To Move In Memory To Get To The Next Element Along Each Dimension Of An Array"
      ],
      "metadata": {
        "id": "ug6Xp41kb50p"
      }
    },
    {
      "cell_type": "code",
      "source": [
        "x=np.array([[[1,2,3,4],\n",
        "             [5,6,7,8],\n",
        "             [9,10,11,12]],\n",
        "            [[13,14,15,16],\n",
        "            [17,18,19,20],\n",
        "            [21,22,23,24]]])\n",
        "print(\"Strides:\",x.strides)"
      ],
      "metadata": {
        "colab": {
          "base_uri": "https://localhost:8080/"
        },
        "id": "JRTuPwQVcc1R",
        "outputId": "58e9f0c7-8eca-47fe-d327-98672d45b840"
      },
      "execution_count": null,
      "outputs": [
        {
          "output_type": "stream",
          "name": "stdout",
          "text": [
            "Strides: (96, 32, 8)\n"
          ]
        }
      ]
    },
    {
      "cell_type": "markdown",
      "source": [
        "2. **Reshape A 1D Array Of 12 Elements Into A 2D Array Of Shape (3,4) And Print Its Strides**"
      ],
      "metadata": {
        "id": "9Unzx6Rydoah"
      }
    },
    {
      "cell_type": "code",
      "source": [
        "a=np.arange(12)\n",
        "rea=a.reshape((3,4))\n",
        "print(\"Stride:\",rea.strides)"
      ],
      "metadata": {
        "colab": {
          "base_uri": "https://localhost:8080/"
        },
        "id": "Cul25ZS2dyJI",
        "outputId": "ab03b625-d020-4430-d95f-54acf4de410a"
      },
      "execution_count": null,
      "outputs": [
        {
          "output_type": "stream",
          "name": "stdout",
          "text": [
            "Stride: (32, 8)\n"
          ]
        }
      ]
    },
    {
      "cell_type": "markdown",
      "source": [
        "3. **Create A 2D Array Of Shape (4,4) And Flatten It Using ravel()**\n",
        "\n",
        "ravel()-> Used To Flatten An Array\n",
        "ravel(array,order='_')\n",
        "\n",
        "Order->\n",
        "\n",
        "'C': Row-major order (Default;C-style).\n",
        "\n",
        "'F': Column-major order (Fortran-style).\n",
        "\n",
        "'A': ‘F’ If array Is Fortran Contiguous, ‘C’ Otherwise.\n",
        "\n",
        "'K': Keeps The Order As Close To Memory Layout As Possible."
      ],
      "metadata": {
        "id": "P7mmJBDdeLlP"
      }
    },
    {
      "cell_type": "code",
      "source": [
        "arr=np.array([[1,2,3,4],[5,6,7,8],\n",
        "              [9,10,11,12],[13,14,15,16]])\n",
        "print(arr.ravel())\n"
      ],
      "metadata": {
        "id": "A3GMcKxaIfgk"
      },
      "execution_count": null,
      "outputs": []
    },
    {
      "cell_type": "markdown",
      "source": [
        "4. **Create A 2D Array Of Shape (5,5) And Change Its Strides To View Every Other Element In The First Dimension**"
      ],
      "metadata": {
        "id": "E71Tb2E6JvRW"
      }
    },
    {
      "cell_type": "code",
      "source": [
        "arr=np.array([[1,2,3,4,5],[6,7,8,9,10],\n",
        "              [11,12,13,14,15],[16,17,18,19,20],\n",
        "              [21,22,23,24,25]])\n",
        "'''\n",
        "Changing The Strides To View Every Other Elements\n",
        "In The First Dimension\n",
        "'''\n",
        "strid=arr[::2,:]\n",
        "print(strid)"
      ],
      "metadata": {
        "id": "ydPkYxQXKC8g"
      },
      "execution_count": null,
      "outputs": []
    },
    {
      "cell_type": "markdown",
      "source": [
        "5. **Create A 2D Array Of Shape (3,3),Change Its Memory Layout To 'C' Order And Print The Array And Its Strides**\n",
        "\n",
        "ascontiguousarray()-> Ensures That A Given Array Is Stored In Contigous Memory Order Just Like C-Arrays."
      ],
      "metadata": {
        "id": "1j8KdVBiLBQa"
      }
    },
    {
      "cell_type": "code",
      "source": [
        "arr=np.array([[1,2,3],[4,5,6],[7,8,9]])\n",
        "print(np.ascontiguousarray(arr).strides)\n"
      ],
      "metadata": {
        "colab": {
          "base_uri": "https://localhost:8080/"
        },
        "id": "M_7nURc-Loct",
        "outputId": "d3a48d3b-b330-41aa-bcac-fe9a974968a6"
      },
      "execution_count": 6,
      "outputs": [
        {
          "output_type": "stream",
          "name": "stdout",
          "text": [
            "(24, 8)\n"
          ]
        }
      ]
    },
    {
      "cell_type": "markdown",
      "source": [
        "6. **Create A 2D Array Of Shape (4,5) And Flatten It Using:**\n",
        "flatten()"
      ],
      "metadata": {
        "id": "khfmQVuNMEpE"
      }
    },
    {
      "cell_type": "code",
      "source": [
        "arr=np.array([[1,2,3,4,5],[6,7,8,9,10],\n",
        "              [11,12,13,14,15],[16,17,18,19,20]])\n",
        "print(arr)\n",
        "print(arr.flatten(order='C'))\n",
        "print(arr.flatten(order='F'))"
      ],
      "metadata": {
        "id": "7bY6VGGUMWsM"
      },
      "execution_count": null,
      "outputs": []
    },
    {
      "cell_type": "markdown",
      "source": [
        "7. **Create A 2D Array Of Shape (3,3),Make Transposed View Using .T And Print The Strides Of Both Arrays**\n"
      ],
      "metadata": {
        "id": "9_IEhL_8M-Ti"
      }
    },
    {
      "cell_type": "code",
      "source": [
        "arr=np.array([[1,2,3],[4,5,6],[7,8,9]])\n",
        "print(\"Strides:\",arr.strides,\"\\t\",arr.T.strides)"
      ],
      "metadata": {
        "id": "ONToxRdxNcbY"
      },
      "execution_count": null,
      "outputs": []
    }
  ]
}