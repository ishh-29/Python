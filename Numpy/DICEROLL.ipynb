{
  "nbformat": 4,
  "nbformat_minor": 0,
  "metadata": {
    "colab": {
      "provenance": []
    },
    "kernelspec": {
      "name": "python3",
      "display_name": "Python 3"
    },
    "language_info": {
      "name": "python"
    }
  },
  "cells": [
    {
      "cell_type": "markdown",
      "source": [
        "**DICE ROLL SIMULATION**\n",
        "\n",
        "To Simulate A Fair Rolling Die And Count Outcomes And Compute Probabilites"
      ],
      "metadata": {
        "id": "QJRa2hQHJ8KP"
      }
    },
    {
      "cell_type": "markdown",
      "source": [
        "Each Die Roll Is Random And Independent,As The Number Of Trails Increases,The Experimental Probability Approaches The Theoritical Probability.\n",
        "\n",
        "Small n (few rolls)->More Randomness-> Inaccurate Probabilities.\n",
        "\n",
        "Large n (many rolls)->Randomness Falttens."
      ],
      "metadata": {
        "id": "EvritGy4h5BK"
      }
    },
    {
      "cell_type": "code",
      "execution_count": 2,
      "metadata": {
        "id": "p4pe7DiqJ6MN"
      },
      "outputs": [],
      "source": [
        "import numpy as np"
      ]
    },
    {
      "cell_type": "code",
      "source": [
        "nroll=int(input(\"Enter Number Of Dice Rolls:\"))\n",
        "#Generating Random Integers Between 1 And 6 Inclusively\n",
        "rolls=np.random.randint(1,7,size=nroll)\n",
        "#Counting Occurences For Each Faces\n",
        "face,occ=np.unique(rolls,return_counts=True)\n",
        "'''\n",
        "The Function Returns Two Arrays One For Each Faces\n",
        "And Other For Occurences For Each Face\n",
        "'''\n",
        "#Calculating Probabilites\n",
        "p=occ/nroll\n",
        "print(\"Number\\tOccurence\\tProbability\")\n",
        "for i in range(len(face)):\n",
        "  f=face[i]\n",
        "  c=occ[i]\n",
        "  prob=p[i]\n",
        "  print(f\"{f}\\t{c}\\t\\t{prob:.3f}\")\n",
        "#Comparing With Theoretical Probability (1/6≈0.166)\n",
        "print(\"\\nExpected Probability For A Fair Die: 1/6≈0.166\")"
      ],
      "metadata": {
        "colab": {
          "base_uri": "https://localhost:8080/"
        },
        "id": "PzCRzoNpO2tZ",
        "outputId": "4605fac6-24d9-4007-cf9c-b575aaba4736"
      },
      "execution_count": null,
      "outputs": [
        {
          "output_type": "stream",
          "name": "stdout",
          "text": [
            "Enter Number Of Dice Rolls:100000\n",
            "Number\tOccurence\tProbability\n",
            "1\t16486\t\t0.165\n",
            "2\t16591\t\t0.166\n",
            "3\t16706\t\t0.167\n",
            "4\t16537\t\t0.165\n",
            "5\t16816\t\t0.168\n",
            "6\t16864\t\t0.169\n",
            "\n",
            "Expected Probability For A Fair Die: 1/6≈0.166\n"
          ]
        }
      ]
    },
    {
      "cell_type": "code",
      "source": [
        "#For Multiple Dice\n",
        "nroll=int(input(\"Enter Number Of Dice Rolls:\"))\n",
        "dice=int(input(\"Enter Number Of Die :\"))\n",
        "#Generating Random Integers Between 1 And 6 Inclusively\n",
        "rolls=np.random.randint(1,7,size=(nroll,dice))\n",
        "#Adding The Numbers Across Each Face\n",
        "add=rolls.sum(axis=1)\n",
        "#Counting Occurences For Each Faces\n",
        "face,occ=np.unique(add,return_counts=True)\n",
        "'''\n",
        "The Function Returns Two Arrays One For Each Faces\n",
        "And Other For Occurences For Each Face\n",
        "'''\n",
        "#Calculating Probabilites\n",
        "p=occ/nroll\n",
        "print(\"Sum\\tOccurence\\tProbability\")\n",
        "for i in range(len(face)):\n",
        "  f=face[i]\n",
        "  c=occ[i]\n",
        "  prob=p[i]\n",
        "  print(f\"{f}\\t{c}\\t\\t{prob:.3f}\")"
      ],
      "metadata": {
        "id": "ZgeYAOaieYlO"
      },
      "execution_count": null,
      "outputs": []
    }
  ]
}